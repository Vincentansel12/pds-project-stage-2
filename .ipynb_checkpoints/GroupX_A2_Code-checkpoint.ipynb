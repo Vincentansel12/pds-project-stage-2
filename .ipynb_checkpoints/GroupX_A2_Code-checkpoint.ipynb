{
 "cells": [
  {
   "cell_type": "markdown",
   "id": "f91a35cb-4841-49c7-bb5d-4bb7a937c62d",
   "metadata": {},
   "source": [
    "# COMP5310 PROJECT STAGE 2\n",
    "### Assignment Group 30\n",
    "### SID1: 540908237, SID2: 540844821 - mrau0998 , SID3: "
   ]
  },
  {
   "cell_type": "markdown",
   "id": "8fc14439-5572-41ab-a767-c82a4bfd756f",
   "metadata": {},
   "source": [
    "## Setup and Dependencies\n",
    "This section imports all required libraries for preprocessing, modeling, evaluation, and visualization."
   ]
  },
  {
   "cell_type": "code",
   "execution_count": 1,
   "id": "f37055db-dd7e-4347-9e61-4b762ab22587",
   "metadata": {},
   "outputs": [],
   "source": [
    "# Import all dependencies\n",
    "\n",
    "import pandas as pd\n",
    "import numpy as np\n",
    "import matplotlib.pyplot as plt\n",
    "from sklearn.metrics import r2_score\n",
    "\n",
    "from sklearn.model_selection import train_test_split\n",
    "from sklearn.preprocessing import StandardScaler\n",
    "from sklearn.preprocessing import OneHotEncoder\n",
    "from sklearn.compose import ColumnTransformer\n",
    "from sklearn.pipeline import Pipeline\n",
    "from sklearn.model_selection import GridSearchCV\n",
    "from catboost import CatBoostRegressor\n",
    "from sklearn.metrics import mean_squared_error, mean_absolute_error, r2_score\n",
    "\n",
    "import tensorflow as tf\n",
    "import keras_tuner as kt"
   ]
  },
  {
   "cell_type": "markdown",
   "id": "515ed257-b963-4c8b-9976-2310f9b10e65",
   "metadata": {},
   "source": [
    "## Data Loading and Preprocessing\n",
    "This section contains the code for loading and preprocessing the data."
   ]
  },
  {
   "cell_type": "code",
   "execution_count": 2,
   "id": "464178de-1705-4a52-a1a9-54e5f999722a",
   "metadata": {},
   "outputs": [
    {
     "data": {
      "text/html": [
       "<div>\n",
       "<style scoped>\n",
       "    .dataframe tbody tr th:only-of-type {\n",
       "        vertical-align: middle;\n",
       "    }\n",
       "\n",
       "    .dataframe tbody tr th {\n",
       "        vertical-align: top;\n",
       "    }\n",
       "\n",
       "    .dataframe thead th {\n",
       "        text-align: right;\n",
       "    }\n",
       "</style>\n",
       "<table border=\"1\" class=\"dataframe\">\n",
       "  <thead>\n",
       "    <tr style=\"text-align: right;\">\n",
       "      <th></th>\n",
       "      <th>Make_Model</th>\n",
       "      <th>Price</th>\n",
       "      <th>Mileage</th>\n",
       "      <th>Fuel</th>\n",
       "      <th>Age</th>\n",
       "      <th>Previous_Owners</th>\n",
       "      <th>Horsepower</th>\n",
       "      <th>Gearing_Type</th>\n",
       "      <th>Displacement</th>\n",
       "      <th>Drive_Chain</th>\n",
       "    </tr>\n",
       "  </thead>\n",
       "  <tbody>\n",
       "    <tr>\n",
       "      <th>0</th>\n",
       "      <td>Audi A1</td>\n",
       "      <td>15770.0</td>\n",
       "      <td>56012.8</td>\n",
       "      <td>Benzine</td>\n",
       "      <td>3.0</td>\n",
       "      <td>1.0</td>\n",
       "      <td>66.0</td>\n",
       "      <td>Automatic</td>\n",
       "      <td>1422.0</td>\n",
       "      <td>front</td>\n",
       "    </tr>\n",
       "    <tr>\n",
       "      <th>1</th>\n",
       "      <td>Audi A1</td>\n",
       "      <td>14640.0</td>\n",
       "      <td>83449.8</td>\n",
       "      <td>Diesel</td>\n",
       "      <td>3.0</td>\n",
       "      <td>1.0</td>\n",
       "      <td>85.0</td>\n",
       "      <td>Automatic</td>\n",
       "      <td>1461.0</td>\n",
       "      <td>front</td>\n",
       "    </tr>\n",
       "    <tr>\n",
       "      <th>2</th>\n",
       "      <td>Audi A1</td>\n",
       "      <td>16422.0</td>\n",
       "      <td>62110.8</td>\n",
       "      <td>Diesel</td>\n",
       "      <td>3.0</td>\n",
       "      <td>1.0</td>\n",
       "      <td>85.0</td>\n",
       "      <td>Automatic</td>\n",
       "      <td>1598.0</td>\n",
       "      <td>front</td>\n",
       "    </tr>\n",
       "    <tr>\n",
       "      <th>3</th>\n",
       "      <td>Audi A1</td>\n",
       "      <td>17990.0</td>\n",
       "      <td>26414.9</td>\n",
       "      <td>Benzine</td>\n",
       "      <td>3.0</td>\n",
       "      <td>1.0</td>\n",
       "      <td>85.0</td>\n",
       "      <td>Automatic</td>\n",
       "      <td>1461.0</td>\n",
       "      <td>front</td>\n",
       "    </tr>\n",
       "    <tr>\n",
       "      <th>4</th>\n",
       "      <td>Audi A1</td>\n",
       "      <td>18900.0</td>\n",
       "      <td>9752.0</td>\n",
       "      <td>Diesel</td>\n",
       "      <td>1.0</td>\n",
       "      <td>1.0</td>\n",
       "      <td>85.0</td>\n",
       "      <td>Automatic</td>\n",
       "      <td>1598.0</td>\n",
       "      <td>front</td>\n",
       "    </tr>\n",
       "  </tbody>\n",
       "</table>\n",
       "</div>"
      ],
      "text/plain": [
       "  Make_Model    Price  Mileage     Fuel  Age  Previous_Owners  Horsepower  \\\n",
       "0    Audi A1  15770.0  56012.8  Benzine  3.0              1.0        66.0   \n",
       "1    Audi A1  14640.0  83449.8   Diesel  3.0              1.0        85.0   \n",
       "2    Audi A1  16422.0  62110.8   Diesel  3.0              1.0        85.0   \n",
       "3    Audi A1  17990.0  26414.9  Benzine  3.0              1.0        85.0   \n",
       "4    Audi A1  18900.0   9752.0   Diesel  1.0              1.0        85.0   \n",
       "\n",
       "  Gearing_Type  Displacement Drive_Chain  \n",
       "0    Automatic        1422.0       front  \n",
       "1    Automatic        1461.0       front  \n",
       "2    Automatic        1598.0       front  \n",
       "3    Automatic        1461.0       front  \n",
       "4    Automatic        1598.0       front  "
      ]
     },
     "execution_count": 2,
     "metadata": {},
     "output_type": "execute_result"
    }
   ],
   "source": [
    "# Import data\n",
    "\n",
    "data = pd.read_csv(\"vsup0468_A1_CleanDataset.csv\")\n",
    "data.head()"
   ]
  },
  {
   "cell_type": "code",
   "execution_count": 3,
   "id": "741f2320-62f0-40cc-bb73-81c2a8cdf214",
   "metadata": {},
   "outputs": [],
   "source": [
    "# Separate the features and target variable.\n",
    "\n",
    "features_df = data.drop(\"Price\", axis=1)\n",
    "target_df = data[\"Price\"]"
   ]
  },
  {
   "cell_type": "code",
   "execution_count": 4,
   "id": "66052e6f-0f79-4b91-8fe3-01b0062fa79a",
   "metadata": {},
   "outputs": [
    {
     "data": {
      "text/html": [
       "<div>\n",
       "<style scoped>\n",
       "    .dataframe tbody tr th:only-of-type {\n",
       "        vertical-align: middle;\n",
       "    }\n",
       "\n",
       "    .dataframe tbody tr th {\n",
       "        vertical-align: top;\n",
       "    }\n",
       "\n",
       "    .dataframe thead th {\n",
       "        text-align: right;\n",
       "    }\n",
       "</style>\n",
       "<table border=\"1\" class=\"dataframe\">\n",
       "  <thead>\n",
       "    <tr style=\"text-align: right;\">\n",
       "      <th></th>\n",
       "      <th>Make_Model</th>\n",
       "      <th>Mileage</th>\n",
       "      <th>Fuel</th>\n",
       "      <th>Age</th>\n",
       "      <th>Previous_Owners</th>\n",
       "      <th>Horsepower</th>\n",
       "      <th>Gearing_Type</th>\n",
       "      <th>Displacement</th>\n",
       "      <th>Drive_Chain</th>\n",
       "    </tr>\n",
       "  </thead>\n",
       "  <tbody>\n",
       "    <tr>\n",
       "      <th>0</th>\n",
       "      <td>Audi A1</td>\n",
       "      <td>56012.8</td>\n",
       "      <td>Benzine</td>\n",
       "      <td>3.0</td>\n",
       "      <td>1.0</td>\n",
       "      <td>66.0</td>\n",
       "      <td>Automatic</td>\n",
       "      <td>1422.0</td>\n",
       "      <td>front</td>\n",
       "    </tr>\n",
       "    <tr>\n",
       "      <th>1</th>\n",
       "      <td>Audi A1</td>\n",
       "      <td>83449.8</td>\n",
       "      <td>Diesel</td>\n",
       "      <td>3.0</td>\n",
       "      <td>1.0</td>\n",
       "      <td>85.0</td>\n",
       "      <td>Automatic</td>\n",
       "      <td>1461.0</td>\n",
       "      <td>front</td>\n",
       "    </tr>\n",
       "    <tr>\n",
       "      <th>2</th>\n",
       "      <td>Audi A1</td>\n",
       "      <td>62110.8</td>\n",
       "      <td>Diesel</td>\n",
       "      <td>3.0</td>\n",
       "      <td>1.0</td>\n",
       "      <td>85.0</td>\n",
       "      <td>Automatic</td>\n",
       "      <td>1598.0</td>\n",
       "      <td>front</td>\n",
       "    </tr>\n",
       "    <tr>\n",
       "      <th>3</th>\n",
       "      <td>Audi A1</td>\n",
       "      <td>26414.9</td>\n",
       "      <td>Benzine</td>\n",
       "      <td>3.0</td>\n",
       "      <td>1.0</td>\n",
       "      <td>85.0</td>\n",
       "      <td>Automatic</td>\n",
       "      <td>1461.0</td>\n",
       "      <td>front</td>\n",
       "    </tr>\n",
       "    <tr>\n",
       "      <th>4</th>\n",
       "      <td>Audi A1</td>\n",
       "      <td>9752.0</td>\n",
       "      <td>Diesel</td>\n",
       "      <td>1.0</td>\n",
       "      <td>1.0</td>\n",
       "      <td>85.0</td>\n",
       "      <td>Automatic</td>\n",
       "      <td>1598.0</td>\n",
       "      <td>front</td>\n",
       "    </tr>\n",
       "  </tbody>\n",
       "</table>\n",
       "</div>"
      ],
      "text/plain": [
       "  Make_Model  Mileage     Fuel  Age  Previous_Owners  Horsepower Gearing_Type  \\\n",
       "0    Audi A1  56012.8  Benzine  3.0              1.0        66.0    Automatic   \n",
       "1    Audi A1  83449.8   Diesel  3.0              1.0        85.0    Automatic   \n",
       "2    Audi A1  62110.8   Diesel  3.0              1.0        85.0    Automatic   \n",
       "3    Audi A1  26414.9  Benzine  3.0              1.0        85.0    Automatic   \n",
       "4    Audi A1   9752.0   Diesel  1.0              1.0        85.0    Automatic   \n",
       "\n",
       "   Displacement Drive_Chain  \n",
       "0        1422.0       front  \n",
       "1        1461.0       front  \n",
       "2        1598.0       front  \n",
       "3        1461.0       front  \n",
       "4        1598.0       front  "
      ]
     },
     "execution_count": 4,
     "metadata": {},
     "output_type": "execute_result"
    }
   ],
   "source": [
    "# View the first 5 rows of features_df\n",
    "\n",
    "features_df.head()"
   ]
  },
  {
   "cell_type": "code",
   "execution_count": 5,
   "id": "62dcf49e-36a8-47ea-bea5-b8b67fae9341",
   "metadata": {},
   "outputs": [
    {
     "data": {
      "text/plain": [
       "0    15770.0\n",
       "1    14640.0\n",
       "2    16422.0\n",
       "3    17990.0\n",
       "4    18900.0\n",
       "Name: Price, dtype: float64"
      ]
     },
     "execution_count": 5,
     "metadata": {},
     "output_type": "execute_result"
    }
   ],
   "source": [
    "# View the first 5 rows of target_df\n",
    "\n",
    "target_df.head()"
   ]
  },
  {
   "cell_type": "code",
   "execution_count": 6,
   "id": "d268bf60-8e68-4038-a69e-13fb9da23c09",
   "metadata": {},
   "outputs": [],
   "source": [
    "# Data preprocessing\n",
    "\n",
    "## Define categorical and numerical features\n",
    "categorical_features = features_df.select_dtypes(include=['object', 'category']).columns.tolist()\n",
    "numerical_features = features_df.select_dtypes(include=['int64', 'float64']).columns.tolist()\n",
    "\n",
    "## Preprocess categorical columns with one-hot encoding and scale numerical columns\n",
    "preprocessor = ColumnTransformer(\n",
    "    transformers=[\n",
    "        ('cat', OneHotEncoder(), categorical_features),\n",
    "        ('num', StandardScaler(), numerical_features)\n",
    "    ]\n",
    ")\n",
    "\n",
    "features_df_preprocessed = preprocessor.fit_transform(features_df)\n",
    "\n",
    "## Convert dataframe to numpy array\n",
    "X_full = features_df_preprocessed\n",
    "y_full = target_df.values"
   ]
  },
  {
   "cell_type": "code",
   "execution_count": 7,
   "id": "4503e9a7-2e9c-49bf-96ff-430c74481d56",
   "metadata": {},
   "outputs": [],
   "source": [
    "# Split full dataset to train, val, and test sets\n",
    "\n",
    "# First split: train (80%) and temp (20%)\n",
    "X_train, X_temp, y_train, y_temp = train_test_split(\n",
    "    X_full, y_full, test_size=0.2, random_state=5310\n",
    ")\n",
    "\n",
    "# Second split: validation (10%) and test (10%) from temp\n",
    "X_val, X_test, y_val, y_test = train_test_split(\n",
    "    X_temp, y_temp, test_size=0.5, random_state=5310\n",
    ")"
   ]
  },
  {
   "cell_type": "code",
   "execution_count": 8,
   "id": "a01f8f24-7193-4fb6-8bda-405d5ba82d8c",
   "metadata": {},
   "outputs": [
    {
     "name": "stdout",
     "output_type": "stream",
     "text": [
      "Shape of X_train = (2783, 23)\n",
      "Shape of y_train = (2783,)\n",
      "Shape of X_val = (348, 23)\n",
      "Shape of y_val = (348,)\n",
      "Shape of X_test = (348, 23)\n",
      "Shape of y_test = (348,)\n"
     ]
    }
   ],
   "source": [
    "# validate the train, val and test sets shape\n",
    "\n",
    "print(f\"Shape of X_train = {X_train.shape}\")\n",
    "print(f\"Shape of y_train = {y_train.shape}\")\n",
    "print(f\"Shape of X_val = {X_val.shape}\")\n",
    "print(f\"Shape of y_val = {y_val.shape}\")\n",
    "print(f\"Shape of X_test = {X_test.shape}\")\n",
    "print(f\"Shape of y_test = {y_test.shape}\")"
   ]
  },
  {
   "cell_type": "markdown",
   "id": "fe821676-91fc-4db4-ba7a-ab0e194bc424",
   "metadata": {},
   "source": [
    "## Predictive Models\n",
    "This section contains the code for creating, optimizing, and evaluating the models."
   ]
  },
  {
   "cell_type": "markdown",
   "id": "1a6b8856-30a8-4f40-aabd-27cf10ffae08",
   "metadata": {},
   "source": [
    "### 1. Multilayer Perceptron (MLP)"
   ]
  },
  {
   "cell_type": "markdown",
   "id": "edbfdc07-02b5-445b-b16a-fe000299c064",
   "metadata": {},
   "source": [
    "Pseudocode:"
   ]
  },
  {
   "cell_type": "raw",
   "id": "d9fe6908-49bf-4bd0-8f4b-fdb0ed190560",
   "metadata": {},
   "source": [
    "Initialize model architecture with hp-suggested layers\n",
    "for each epoch:\n",
    "    for each batch:\n",
    "        Forward propagate inputs through network\n",
    "        Compute loss using MSE\n",
    "        Backpropagate gradients using Adam optimizer\n",
    "        Update weights\n",
    "Return trained model"
   ]
  },
  {
   "cell_type": "markdown",
   "id": "e2142ec0-f92f-4c4d-8a32-2dc7f529f131",
   "metadata": {},
   "source": [
    "#### Base setup for MLP model"
   ]
  },
  {
   "cell_type": "code",
   "execution_count": null,
   "id": "dd71983d-8bfe-4310-9f11-c2b1b35d0b78",
   "metadata": {},
   "outputs": [],
   "source": [
    "# Define MLP Model\n",
    "mlp_model = tf.keras.models.Sequential([\n",
    "    tf.keras.layers.Input(shape=(X_train.shape[1],)),\n",
    "    tf.keras.layers.Dense(64, activation='relu'),\n",
    "    tf.keras.layers.Dense(64, activation='relu'),\n",
    "    tf.keras.layers.Dense(1)\n",
    "])\n",
    "\n",
    "# Compile MLP model\n",
    "mlp_model.compile(optimizer='adam', loss='mse', metrics=['mae'])\n",
    "\n",
    "# Train MLP model\n",
    "early_stop = tf.keras.callbacks.EarlyStopping(monitor='val_loss', patience=5, restore_best_weights=True)\n",
    "history = mlp_model.fit(X_train, y_train, \n",
    "                        validation_data=(X_val, y_val), \n",
    "                        epochs=50, \n",
    "                        batch_size=32, \n",
    "                        callbacks=[early_stop])"
   ]
  },
  {
   "cell_type": "code",
   "execution_count": null,
   "id": "434121c3-bd8a-4d15-8915-b4c7ca85f105",
   "metadata": {},
   "outputs": [],
   "source": [
    "plt.figure(figsize=(12, 5))\n",
    "\n",
    "# Plot Loss\n",
    "plt.subplot(1, 2, 1)\n",
    "plt.plot(history.history['loss'], label='Training Loss')\n",
    "plt.plot(history.history['val_loss'], label='Validation Loss')\n",
    "plt.xlabel('Epoch')\n",
    "plt.ylabel('MSE Loss')\n",
    "plt.title('Model Loss Over Epochs')\n",
    "plt.legend()\n",
    "\n",
    "# Plot MAE\n",
    "plt.subplot(1, 2, 2)\n",
    "plt.plot(history.history['mae'], label='Training MAE')\n",
    "plt.plot(history.history['val_mae'], label='Validation MAE')\n",
    "plt.xlabel('Epoch')\n",
    "plt.ylabel('MAE')\n",
    "plt.title('Model MAE Over Epochs')\n",
    "plt.legend()\n",
    "\n",
    "plt.tight_layout()\n",
    "plt.show()"
   ]
  },
  {
   "cell_type": "code",
   "execution_count": null,
   "id": "7cc906fd-2296-45a9-af02-7ca9a7f22e2f",
   "metadata": {},
   "outputs": [],
   "source": [
    "# Plot predictions vs actual\n",
    "\n",
    "y_pred = mlp_model.predict(X_test)\n",
    "plt.scatter(y_test, y_pred, alpha=0.5)\n",
    "plt.xlabel(\"Actual Price\")\n",
    "plt.ylabel(\"Predicted Price\")\n",
    "plt.title(\"Actual vs Predicted Car Prices From Baseline MLP Model\")\n",
    "plt.plot([min(y_test), max(y_test)], [min(y_test), max(y_test)], color='red')  # perfect line\n",
    "plt.show()"
   ]
  },
  {
   "cell_type": "code",
   "execution_count": null,
   "id": "9029707b-97e9-4b19-b274-b052f6acdb96",
   "metadata": {},
   "outputs": [],
   "source": [
    "# Evaluate the Model\n",
    "\n",
    "# Compute MSE and MAE\n",
    "loss, mae = mlp_model.evaluate(X_test, y_test)\n",
    "print(f\"Baseline MSE: {loss:.4f}\")\n",
    "print(f\"Baseline MAE: {mae:.4f}\")\n"
   ]
  },
  {
   "cell_type": "markdown",
   "id": "09e8873c-2934-4081-a219-b4cab3856111",
   "metadata": {},
   "source": [
    "#### Hyperparameter tuning for MLP model"
   ]
  },
  {
   "cell_type": "code",
   "execution_count": null,
   "id": "039f4088-9ae3-45c7-84db-5ef93683092a",
   "metadata": {},
   "outputs": [],
   "source": [
    "# Define function to do hyperparameter tuning\n",
    "\n",
    "def build_mlp_model(hp):\n",
    "    model = tf.keras.models.Sequential()\n",
    "    model.add(tf.keras.layers.Input(shape=(X_train.shape[1],)))\n",
    "    \n",
    "    # Tune number of layers and units\n",
    "    for i in range(hp.Int('num_layers', 1, 5)):\n",
    "        model.add(tf.keras.layers.Dense(\n",
    "            units=hp.Int(f'units_{i}', min_value=32, max_value=256, step=32),\n",
    "            activation=hp.Choice('activation', ['relu', 'tanh'])\n",
    "        ))\n",
    "    \n",
    "    model.add(tf.keras.layers.Dense(1))  # output layer for regression\n",
    "    \n",
    "    # Compile with tuned learning rate\n",
    "    model.compile(\n",
    "        optimizer=tf.keras.optimizers.Adam(\n",
    "            hp.Float('learning_rate', 1e-4, 1e-2, sampling='log')\n",
    "        ),\n",
    "        loss='mse',\n",
    "        metrics=['mae']\n",
    "    )\n",
    "    \n",
    "    return model"
   ]
  },
  {
   "cell_type": "code",
   "execution_count": null,
   "id": "ad111091-78d4-4a5c-b887-5c0fb9ae3c84",
   "metadata": {},
   "outputs": [],
   "source": [
    "# Initialize the tuner\n",
    "\n",
    "tuner = kt.RandomSearch(\n",
    "    build_mlp_model,\n",
    "    objective='val_mae',\n",
    "    max_trials=50,\n",
    "    executions_per_trial=1,\n",
    "    directory='keras_tuner_dir',\n",
    "    project_name='car_price_mlp'\n",
    ")"
   ]
  },
  {
   "cell_type": "code",
   "execution_count": null,
   "id": "ee2851a3-63a7-4f31-8fe0-abdd239e4a82",
   "metadata": {},
   "outputs": [],
   "source": [
    "# Search for the Best Hyperparameters\n",
    "\n",
    "tuner.search(X_train, y_train, validation_data=(X_val, y_val), epochs=50, batch_size=32, callbacks=[early_stop])"
   ]
  },
  {
   "cell_type": "code",
   "execution_count": null,
   "id": "de51ccb2-1610-499e-8dd7-e9ab155a2ee8",
   "metadata": {},
   "outputs": [],
   "source": [
    "# Retrieve the Best Model\n",
    "\n",
    "best_hps = tuner.get_best_hyperparameters(num_trials=1)[0]\n",
    "\n",
    "print(\"Best hyperparameters:\")\n",
    "for param in best_hps.values:\n",
    "    print(f\" - {param}: {best_hps.get(param)}\")"
   ]
  },
  {
   "cell_type": "code",
   "execution_count": null,
   "id": "3d4b91cb-60ae-4f39-955d-be3e18008b38",
   "metadata": {},
   "outputs": [],
   "source": [
    "# Build and train final model\n",
    "\n",
    "best_model = tuner.hypermodel.build(best_hps)\n",
    "best_history = best_model.fit(X_train, y_train, \n",
    "                              validation_data=(X_val, y_val), \n",
    "                              epochs=50, \n",
    "                              batch_size=32, \n",
    "                              callbacks=[early_stop])"
   ]
  },
  {
   "cell_type": "code",
   "execution_count": null,
   "id": "2abcff0c-b857-43f8-83c2-b7c848071d50",
   "metadata": {},
   "outputs": [],
   "source": [
    "plt.figure(figsize=(12, 5))\n",
    "\n",
    "# Plot Loss\n",
    "plt.subplot(1, 2, 1)\n",
    "plt.plot(best_history.history['loss'], label='Training Loss')\n",
    "plt.plot(best_history.history['val_loss'], label='Validation Loss')\n",
    "plt.xlabel('Epoch')\n",
    "plt.ylabel('MSE Loss')\n",
    "plt.title('Model Loss Over Epochs')\n",
    "plt.legend()\n",
    "\n",
    "# Plot MAE\n",
    "plt.subplot(1, 2, 2)\n",
    "plt.plot(best_history.history['mae'], label='Training MAE')\n",
    "plt.plot(best_history.history['val_mae'], label='Validation MAE')\n",
    "plt.xlabel('Epoch')\n",
    "plt.ylabel('MAE')\n",
    "plt.title('Model MAE Over Epochs')\n",
    "plt.legend()\n",
    "\n",
    "plt.tight_layout()\n",
    "plt.show()"
   ]
  },
  {
   "cell_type": "code",
   "execution_count": null,
   "id": "7dbbd674-7d21-41d6-beea-1efd1314173f",
   "metadata": {},
   "outputs": [],
   "source": [
    "# Plot predictions vs actual\n",
    "\n",
    "y_pred = best_model.predict(X_test)\n",
    "plt.scatter(y_test, y_pred, alpha=0.5)\n",
    "plt.xlabel(\"Actual Price\")\n",
    "plt.ylabel(\"Predicted Price\")\n",
    "plt.title(\"Actual vs Predicted Car Prices From MLP Best Model\")\n",
    "plt.plot([min(y_test), max(y_test)], [min(y_test), max(y_test)], color='red')  # perfect line\n",
    "plt.show()"
   ]
  },
  {
   "cell_type": "code",
   "execution_count": null,
   "id": "428f3087-62bc-4b3f-881e-94ca5b9cddcd",
   "metadata": {},
   "outputs": [],
   "source": [
    "# Evaluate the Best Model\n",
    "\n",
    "# Compute MSE and MAE\n",
    "loss, mae = best_model.evaluate(X_test, y_test)\n",
    "print(f\"BEST MSE: {loss:.4f}\")\n",
    "print(f\"BEST MAE: {mae:.4f}\")\n"
   ]
  },
  {
   "cell_type": "code",
   "execution_count": null,
   "id": "fdc4a8bb-8d9e-4bef-81be-15893ba389f7",
   "metadata": {},
   "outputs": [],
   "source": [
    "# Use Trained Best MLP Model to Predict on New Data\n",
    "\n",
    "new_data = pd.DataFrame([{\n",
    "    'Make_Model': 'Audi A1',\n",
    "    'Mileage': 54000.0,\n",
    "    'Fuel': 'Benzine',\n",
    "    'Age': 3.0,\n",
    "    'Previous_Owners': 1.0,\n",
    "    'Horsepower': 85.0,\n",
    "    'Gearing_Type': 'Automatic',\n",
    "    'Displacement': 1600.0,\n",
    "    'Drive_Chain': 'front'\n",
    "}])\n",
    "\n",
    "# Preprocess the New Data Using the Same Fitted Preprocessor\n",
    "new_data_processed = preprocessor.transform(new_data)\n",
    "\n",
    "predicted_price = best_model.predict(new_data_processed)\n",
    "print(f\"Predicted price: ${predicted_price[0][0]:,.2f} ± approx. ${mae:,.0f} (based on test MAE)\")\n"
   ]
  },
  {
   "cell_type": "markdown",
   "id": "3e3f8892-fac1-471e-9177-ce14d1705729",
   "metadata": {},
   "source": [
    "### CatBoost (Categorical Boosting) - Unikey: mrau0998"
   ]
  },
  {
   "cell_type": "markdown",
   "id": "d0f306a9-5894-43a2-8166-62e4f41057cd",
   "metadata": {},
   "source": [
    "Pseudocode:"
   ]
  },
  {
   "cell_type": "raw",
   "id": "f14f3b82-4a26-45a6-b4c2-4fa4113c2881",
   "metadata": {},
   "source": [
    "Initialize CatBoostRegressor with hyperparameters\n",
    "for each boosting iteration:\n",
    "    for each training batch:\n",
    "        Compute gradient based on current prediction and target values\n",
    "        Update tree structure based on gradient and loss function (e.g., RMSE)\n",
    "        Apply regularization techniques (e.g., L2 regularization)\n",
    "        Construct and add a new tree to the ensemble\n",
    "        Update the model's predictions\n",
    "Return trained model"
   ]
  },
  {
   "cell_type": "markdown",
   "id": "970e1f3e-f486-46b4-8266-a79e030eea16",
   "metadata": {},
   "source": [
    "#### Base Setup for CatBoost Model"
   ]
  },
  {
   "cell_type": "code",
   "execution_count": 9,
   "id": "e80942da-d54a-4872-a3b3-63e34ff945aa",
   "metadata": {},
   "outputs": [],
   "source": [
    "# Split raw data for CatBoost\n",
    "X_cb_train, X_cb_temp, y_cb_train, y_cb_temp = train_test_split(\n",
    "    features_df, target_df, test_size=0.2, random_state=5310\n",
    ")\n",
    "\n",
    "X_cb_val, X_cb_test, y_cb_val, y_cb_test = train_test_split(\n",
    "    X_cb_temp, y_cb_temp, test_size=0.5, random_state=5310\n",
    ")"
   ]
  },
  {
   "cell_type": "code",
   "execution_count": 10,
   "id": "052eef3a-0a17-4aad-98f1-79dfd52832b6",
   "metadata": {},
   "outputs": [
    {
     "name": "stdout",
     "output_type": "stream",
     "text": [
      "0:\tlearn: 10602.8688131\ttest: 6456.1137236\tbest: 6456.1137236 (0)\ttotal: 172ms\tremaining: 2m 51s\n",
      "100:\tlearn: 8061.6494633\ttest: 3494.5797666\tbest: 3494.3732925 (99)\ttotal: 4.25s\tremaining: 37.9s\n",
      "200:\tlearn: 7530.6426853\ttest: 3413.6532713\tbest: 3413.6117960 (198)\ttotal: 8.37s\tremaining: 33.3s\n",
      "300:\tlearn: 6467.7670757\ttest: 3380.9605260\tbest: 3370.6510099 (271)\ttotal: 12.5s\tremaining: 29s\n",
      "Stopped by overfitting detector  (50 iterations wait)\n",
      "\n",
      "bestTest = 3370.65101\n",
      "bestIteration = 271\n",
      "\n",
      "Shrink model to first 272 iterations.\n"
     ]
    },
    {
     "data": {
      "text/plain": [
       "<catboost.core.CatBoostRegressor at 0x2901205b7d0>"
      ]
     },
     "execution_count": 10,
     "metadata": {},
     "output_type": "execute_result"
    }
   ],
   "source": [
    "# Define categorical feature names (these are raw, unencoded)\n",
    "categorical_features = ['Make_Model', 'Fuel', 'Gearing_Type', 'Drive_Chain']\n",
    "\n",
    "# Initialize CatBoost regressor\n",
    "catboost_model = CatBoostRegressor(\n",
    "    iterations=1000,\n",
    "    learning_rate=0.05,\n",
    "    depth=6,\n",
    "    cat_features=categorical_features,\n",
    "    loss_function='RMSE',\n",
    "    early_stopping_rounds=50,\n",
    "    verbose=100,\n",
    "    random_seed=5310\n",
    ")\n",
    "\n",
    "# Train the model using raw data and native categorical support\n",
    "catboost_model.fit(\n",
    "    X_cb_train, y_cb_train,\n",
    "    eval_set=(X_cb_val, y_cb_val),\n",
    "    use_best_model=True\n",
    ")"
   ]
  },
  {
   "cell_type": "code",
   "execution_count": 11,
   "id": "95d45097-56f8-401f-8433-041d265525ed",
   "metadata": {},
   "outputs": [
    {
     "data": {
      "image/png": "[encoded data removed]",
      "text/plain": [
       "<Figure size 800x600 with 1 Axes>"
      ]
     },
     "metadata": {},
     "output_type": "display_data"
    }
   ],
   "source": [
    "# Predict using CatBoost model\n",
    "y_cb_pred = catboost_model.predict(X_cb_test)\n",
    "\n",
    "# Plot predictions vs actual\n",
    "plt.figure(figsize=(8, 6))\n",
    "plt.scatter(y_cb_test, y_cb_pred, alpha=0.5)\n",
    "plt.xlabel(\"Actual Price\")\n",
    "plt.ylabel(\"Predicted Price\")\n",
    "plt.title(\"Actual vs Predicted Car Prices from CatBoost Model\")\n",
    "plt.plot([min(y_cb_test), max(y_cb_test)], [min(y_cb_test), max(y_cb_test)], color='red')  # perfect prediction line\n",
    "plt.grid(True)\n",
    "plt.show()"
   ]
  },
  {
   "cell_type": "code",
   "execution_count": 12,
   "id": "adfeaa0b-ff48-4df6-9ba7-fa39568934a3",
   "metadata": {},
   "outputs": [
    {
     "name": "stdout",
     "output_type": "stream",
     "text": [
      "CatBoost MSE: 6974258.8396\n",
      "CatBoost MAE: 1808.0972\n",
      "CatBoost R²: 0.7913\n"
     ]
    }
   ],
   "source": [
    "# Predict on test set\n",
    "y_cb_pred = catboost_model.predict(X_cb_test)\n",
    "\n",
    "# Compute evaluation metrics\n",
    "mse = mean_squared_error(y_cb_test, y_cb_pred)\n",
    "mae = mean_absolute_error(y_cb_test, y_cb_pred)\n",
    "r2 = r2_score(y_cb_test, y_cb_pred)\n",
    "\n",
    "# Display results\n",
    "print(f\"CatBoost MSE: {mse:.4f}\")\n",
    "print(f\"CatBoost MAE: {mae:.4f}\")\n",
    "print(f\"CatBoost R²: {r2:.4f}\")"
   ]
  },
  {
   "cell_type": "markdown",
   "id": "eb779e31-da37-4951-a908-2ff58be1da62",
   "metadata": {},
   "source": [
    "#### Hyperparameter tuning for CatBoost model"
   ]
  },
  {
   "cell_type": "code",
   "execution_count": 14,
   "id": "c8e196a3-bedf-47cd-bc69-10ecf65b16a7",
   "metadata": {},
   "outputs": [
    {
     "name": "stdout",
     "output_type": "stream",
     "text": [
      "Fitting 3 folds for each of 18 candidates, totalling 54 fits\n",
      "0:\tlearn: 10703.1689579\ttotal: 50.1ms\tremaining: 50.1s\n",
      "200:\tlearn: 8543.2479428\ttotal: 10.9s\tremaining: 43.3s\n",
      "400:\tlearn: 7988.3353699\ttotal: 21s\tremaining: 31.4s\n",
      "600:\tlearn: 7739.7286674\ttotal: 30.4s\tremaining: 20.2s\n",
      "800:\tlearn: 7399.4788905\ttotal: 39.9s\tremaining: 9.9s\n",
      "999:\tlearn: 7058.5969206\ttotal: 50.2s\tremaining: 0us\n",
      "Best params: {'depth': 8, 'iterations': 1000, 'learning_rate': 0.01}\n",
      "Best score: 74700636.72512157\n"
     ]
    }
   ],
   "source": [
    "# Initiate the CatBoost model\n",
    "cb_model = CatBoostRegressor(\n",
    "    verbose=200, \n",
    "    cat_features=categorical_features,\n",
    "    loss_function='RMSE',\n",
    "    early_stopping_rounds=50,\n",
    "    random_seed=5310\n",
    ")\n",
    "\n",
    "# Declare the parameters to be tested\n",
    "param_grid = {\n",
    "    'depth': [4, 6, 8],\n",
    "    'learning_rate': [0.001, 0.01, 0.1],\n",
    "    'iterations': [500,1000]\n",
    "}\n",
    "\n",
    "# Perform grid search\n",
    "grid_search = GridSearchCV(cb_model, param_grid, cv=3, scoring='neg_mean_squared_error', n_jobs=-1, verbose=3)\n",
    "grid_search.fit(X_cb_train, y_cb_train)\n",
    "\n",
    "print(\"Best params:\", grid_search.best_params_)\n",
    "print(\"Best score:\", -grid_search.best_score_)"
   ]
  },
  {
   "cell_type": "code",
   "execution_count": 16,
   "id": "2bd39218-6e81-4ea2-a638-d75f92f95153",
   "metadata": {},
   "outputs": [
    {
     "name": "stdout",
     "output_type": "stream",
     "text": [
      "0:\tlearn: 10703.1689579\ttest: 6586.1724818\tbest: 6586.1724818 (0)\ttotal: 60.6ms\tremaining: 1m\n",
      "200:\tlearn: 8543.2479428\ttest: 3768.7056641\tbest: 3768.7056641 (200)\ttotal: 11.3s\tremaining: 44.9s\n",
      "400:\tlearn: 7988.3353699\ttest: 3487.6193597\tbest: 3487.6193597 (400)\ttotal: 21.8s\tremaining: 32.6s\n",
      "Stopped by overfitting detector  (50 iterations wait)\n",
      "\n",
      "bestTest = 3408.275894\n",
      "bestIteration = 544\n",
      "\n",
      "Shrink model to first 545 iterations.\n"
     ]
    },
    {
     "data": {
      "text/plain": [
       "<catboost.core.CatBoostRegressor at 0x290122f01d0>"
      ]
     },
     "execution_count": 16,
     "metadata": {},
     "output_type": "execute_result"
    }
   ],
   "source": [
    "# Get the best performing model\n",
    "cb_model_best = grid_search.best_estimator_\n",
    "\n",
    "# Train the model on the full training data\n",
    "cb_model_best.fit(X_cb_train, y_cb_train, eval_set=(X_cb_val, y_cb_val), verbose=200)"
   ]
  },
  {
   "cell_type": "code",
   "execution_count": 17,
   "id": "96e392c1-a51f-48cf-b98c-450dad122022",
   "metadata": {},
   "outputs": [
    {
     "data": {
      "image/png": "[encoded data removed]",
      "text/plain": [
       "<Figure size 640x480 with 1 Axes>"
      ]
     },
     "metadata": {},
     "output_type": "display_data"
    }
   ],
   "source": [
    "# Make predictions on the test set\n",
    "y_cb_pred = cb_model_best.predict(X_cb_test)\n",
    "\n",
    "# Plot predictions vs actual values\n",
    "plt.scatter(y_cb_test, y_cb_pred, alpha=0.5)\n",
    "plt.xlabel(\"Actual Price\")\n",
    "plt.ylabel(\"Predicted Price\")\n",
    "plt.title(\"Actual vs Predicted Car Prices From CatBoost Best Model\")\n",
    "\n",
    "# Plot a perfect line (diagonal line) representing ideal predictions\n",
    "plt.plot([min(y_cb_test), max(y_cb_test)], [min(y_cb_test), max(y_cb_test)], color='red')  # perfect line\n",
    "plt.show()"
   ]
  },
  {
   "cell_type": "code",
   "execution_count": 18,
   "id": "1d6f4793-22b8-4544-afea-9852728ae91f",
   "metadata": {},
   "outputs": [
    {
     "name": "stdout",
     "output_type": "stream",
     "text": [
      "Test MSE: 6809784.8884\n",
      "Test MAE: 1796.7196\n",
      "Test R^2: 0.7963\n"
     ]
    }
   ],
   "source": [
    "mse = mean_squared_error(y_cb_test, y_cb_pred)\n",
    "mae = mean_absolute_error(y_cb_test, y_cb_pred)\n",
    "r2 = r2_score(y_cb_test, y_cb_pred)\n",
    "\n",
    "print(f\"Test MSE: {mse:.4f}\")\n",
    "print(f\"Test MAE: {mae:.4f}\")\n",
    "print(f\"Test R^2: {r2:.4f}\")"
   ]
  },
  {
   "cell_type": "code",
   "execution_count": 19,
   "id": "041d3d9c-1c6d-44e0-bc4f-0286f0842a2e",
   "metadata": {},
   "outputs": [
    {
     "name": "stdout",
     "output_type": "stream",
     "text": [
      "Predicted price for new data: $17,544.97 ± approx. $1,797 (based on test MAE)\n"
     ]
    }
   ],
   "source": [
    "# New data (same structure as the original dataset)\n",
    "new_data = pd.DataFrame([{\n",
    "    'Make_Model': 'Audi A1',\n",
    "    'Mileage': 54000.0,\n",
    "    'Fuel': 'Benzine',\n",
    "    'Age': 3.0,\n",
    "    'Previous_Owners': 1.0,\n",
    "    'Horsepower': 85.0,\n",
    "    'Gearing_Type': 'Automatic',\n",
    "    'Displacement': 1600.0,\n",
    "    'Drive_Chain': 'front'\n",
    "}])\n",
    "\n",
    "# Make prediction using the best trained CatBoost model\n",
    "predicted_price = cb_model_best.predict(new_data)\n",
    "\n",
    "# Compute MAE from previous evaluation to provide the uncertainty\n",
    "# You can also use the test MAE directly\n",
    "print(f\"Predicted price for new data: ${predicted_price[0]:,.2f} ± approx. ${mae:,.0f} (based on test MAE)\")"
   ]
  }
 ],
 "metadata": {
  "kernelspec": {
   "display_name": "Python 3 (ipykernel)",
   "language": "python",
   "name": "python3"
  },
  "language_info": {
   "codemirror_mode": {
    "name": "ipython",
    "version": 3
   },
   "file_extension": ".py",
   "mimetype": "text/x-python",
   "name": "python",
   "nbconvert_exporter": "python",
   "pygments_lexer": "ipython3",
   "version": "3.12.7"
  }
 },
 "nbformat": 4,
 "nbformat_minor": 5
}
